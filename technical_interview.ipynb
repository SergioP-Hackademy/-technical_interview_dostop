{
 "cells": [
  {
   "cell_type": "markdown",
   "metadata": {},
   "source": [
    "### Descripcion\n",
    "Escribe un programa que calcule la tarifa a cobrar dada una tabla de bloques.\n",
    "La entrada de datos son:\n",
    "  * Horas a cobrar (Número)\n",
    "  \n",
    "Y la salida de datos es:\n",
    "\n",
    "  * Monto total (Número).\n",
    "\n",
    "Utiliza esta tabla como los bloques de tarifa:\n",
    "```\n",
    "let fares = [\n",
    "  [0,15,60,1,1],\n",
    "  [1,7,30,5,2],\n",
    "  [2,4,15,1,3],\n",
    "  [3,2,60,1,3]\n",
    "]\n",
    "```\n",
    "\n",
    "**fares[0] -> Número de bloque** \n",
    "\n",
    "**fares[1] -> Tarifa del bloque**\n",
    "\n",
    "**fares[2] -> Aplica hasta n minutos**\n",
    "\n",
    "**fare[3] -> Repeticiones del bloque**\n",
    "\n",
    "**fare[4] -> Bloque siguiente**\n",
    "\n",
    "Ejemplos:\n",
    "\n",
    "Horas   Tarifa                      Minutos cobrados por bloque\n",
    "0.5     15                          30\n",
    "1       15                          60\n",
    "1.5     15 + 7 = 22                 60 - 30(x1)\n",
    "3       15 + 28 = 43                60 - 120(x4)\n",
    "5       15 + 35 + 4 + 2 + 2 = 58    60 - 150(x5) - 15 - 75(referencia así mismo)"
   ]
  },
  {
   "cell_type": "code",
   "execution_count": 140,
   "metadata": {},
   "outputs": [],
   "source": [
    "# Total de horas que dura el algoridmon 6.75 por un ciclo \n",
    "# Costo total de las 6.75 horas --> 56 en una corrida , luego es un ciclo\n",
    "FARES= [\n",
    "  [0,15,60,1,1],\n",
    "  [1,7,30,5,2],\n",
    "  [2,4,15,1,3],\n",
    "  [3,2,60,1,3] #2 pesos por 60 min ->infinito pasado las 6 horas o 405 min \n",
    "  # 0.03333333333333333333333333333333 por min pasando esta barrera\n",
    "]\n",
    "costo_total = 0\n",
    "max_bloque = []\n",
    "COSTO_X_MIN_BLOQUE_3 = 0.03333333333333333333333333333333\n",
    "total_pagar = 0"
   ]
  },
  {
   "cell_type": "code",
   "execution_count": 145,
   "metadata": {},
   "outputs": [],
   "source": [
    "horas_cobro = float(input('Ingresa las horas a cobrar '))\n",
    "# horas_cobro = 420"
   ]
  },
  {
   "cell_type": "code",
   "execution_count": 164,
   "metadata": {},
   "outputs": [
    {
     "name": "stdout",
     "output_type": "stream",
     "text": [
      "range(0, 4)\n",
      "[{'costo_max': 15, 'minutos_max': 60, 'tope_max_costo': 15, 'min_tope_bloque': 60, 'costo_x_min': 0.25}, {'costo_max': 35, 'minutos_max': 150, 'tope_max_costo': 50, 'min_tope_bloque': 210, 'costo_x_min': 0.23333333333333334}, {'costo_max': 4, 'minutos_max': 15, 'tope_max_costo': 54, 'min_tope_bloque': 225, 'costo_x_min': 0.26666666666666666}, {'costo_max': 2, 'minutos_max': 60, 'tope_max_costo': 56, 'min_tope_bloque': 285, 'costo_x_min': 0.03333333333333333}]\n"
     ]
    }
   ],
   "source": [
    "#  horas a cobrar 40 ejemplo\n",
    "# [0,15,60,1,1],\n",
    "# max_bloque[<maximo min por bloque>,<max dinero por bloque>]\\\n",
    "# Calculo de topes maximos \n",
    "max_bloque=[]\n",
    "pase =[]\n",
    "tope_max_costo = 0\n",
    "min_tope_bloque = 0\n",
    "\n",
    "print(range(len(FARES)))\n",
    "for value in range(len(FARES)):\n",
    "    pase = {'costo_max':FARES[value][1]*FARES[value][3],'minutos_max':FARES[value][2]*FARES[value][3]}\n",
    "    tope_max_costo += pase['costo_max']\n",
    "    pase['tope_max_costo']=tope_max_costo\n",
    "    min_tope_bloque += pase['minutos_max']\n",
    "    pase['min_tope_bloque']=min_tope_bloque\n",
    "    # print(FARES[value][3],FARES[value][1])\n",
    "    pase['costo_x_min'] = FARES[value][1]/FARES[value][2]\n",
    "    # print(tope_max_costo)\n",
    "    max_bloque.append(pase)\n",
    "\n",
    "print(max_bloque)\n"
   ]
  },
  {
   "cell_type": "code",
   "execution_count": 166,
   "metadata": {},
   "outputs": [
    {
     "data": {
      "text/plain": [
       "62.5"
      ]
     },
     "execution_count": 166,
     "metadata": {},
     "output_type": "execute_result"
    }
   ],
   "source": [
    "horas_cobro=30\n",
    "if(horas_cobro<=){\n",
    "\n",
    "}\n",
    "\n",
    "\n",
    "if horas_cobro >= 285:\n",
    "    horas_cobro = horas_cobro-285\n",
    "    # print(max_bloque[-1]['tope_max'])\n",
    "    # 56+15*0.03333333333333333333333333333333\n",
    "    # print(max_bloque[-1]['tope_max'])\n",
    "    total_pagar = max_bloque[-1]['tope_max_costo'] + (horas_cobro * COSTO_X_MIN_BLOQUE_3)\n",
    "\n",
    "total_pagar\n"
   ]
  },
  {
   "cell_type": "code",
   "execution_count": 285,
   "metadata": {},
   "outputs": [],
   "source": [
    "def infinit_block(horas_cobro):\n",
    "    # costo_total_suma=0\n",
    "\n",
    "    if horas_cobro >= 285:\n",
    "        print('Bloques infinito')\n",
    "        horas_cobro -=285\n",
    "        costo_total_suma= 56\n",
    "\n",
    "        while(horas_cobro >= 0):\n",
    "            costo_total_suma += FARES[-1][1]\n",
    "            horas_cobro -= FARES[-1][2]\n",
    "        return (True,costo_total_suma)"
   ]
  },
  {
   "cell_type": "markdown",
   "metadata": {},
   "source": [
    "#### Solucion"
   ]
  },
  {
   "cell_type": "code",
   "execution_count": 322,
   "metadata": {},
   "outputs": [],
   "source": [
    "horas_cobro = float(input('Ingresa las horas a cobrar (min)'))\n"
   ]
  },
  {
   "cell_type": "code",
   "execution_count": 323,
   "metadata": {},
   "outputs": [
    {
     "name": "stdout",
     "output_type": "stream",
     "text": [
      "Total a pagar  43\n"
     ]
    }
   ],
   "source": [
    "\n",
    "#horas_cobro=30\n",
    "costo_total_suma=0\n",
    "count=0\n",
    "for value in range(len(FARES)):\n",
    "\n",
    "    if (horas_cobro >= 285):\n",
    "        costo_total_suma= infinit_block(horas_cobro)[1]\n",
    "        break\n",
    "\n",
    "\n",
    "\n",
    "\n",
    "    if(horas_cobro == 0): break\n",
    "    if (horas_cobro < FARES[value][2]* FARES[value][3] ):\n",
    "        # costo_total_suma=(FARES[value][1]/FARES[value][2])*horas_cobro\n",
    "        costo_total_suma += FARES[value][1]\n",
    "        horas_cobro -= FARES[value][2]\n",
    "        count+=1\n",
    "\n",
    "        while(count != FARES[value][3]):\n",
    "            if(horas_cobro == 0): break\n",
    "            if (horas_cobro < FARES[value][2]* FARES[value][3] and count <= FARES[value][3] ):\n",
    "                costo_total_suma += FARES[value][1]\n",
    "                horas_cobro -= FARES[value][2]\n",
    "                count+=1\n",
    "        count=0\n",
    "        break\n",
    "            \n",
    "        \n",
    "    else:\n",
    "        costo_total_suma += FARES[value][1]\n",
    "        horas_cobro -= FARES[value][2]\n",
    "\n",
    "\n",
    "print('Total a pagar ',costo_total_suma)"
   ]
  },
  {
   "cell_type": "markdown",
   "metadata": {},
   "source": [
    "### Descripcion Ejercio 2\n",
    "\n",
    "Escribe un programa que obtenga todas las combinaciones de una palabra:\n",
    "\n",
    "La entrada de datos son:\n",
    "\n",
    "  * Palabra (Cadena)\n",
    "  \n",
    "Y la salida de datos es:\n",
    "\n",
    "  * Arreglo de cadenas \n",
    "\n",
    "##### Ejemplos\n",
    "\n",
    "Luz\n",
    "\n",
    "```\n",
    "[\n",
    "  'l',\n",
    "  'lu',\n",
    "  'lz',\n",
    "  'u',\n",
    "  'uz',\n",
    "  'z',\n",
    "  'luz'\n",
    "]\n",
    "```"
   ]
  },
  {
   "cell_type": "code",
   "execution_count": 8,
   "metadata": {},
   "outputs": [],
   "source": [
    "from collections import OrderedDict"
   ]
  },
  {
   "cell_type": "markdown",
   "metadata": {},
   "source": [
    "#### Solucion"
   ]
  },
  {
   "cell_type": "code",
   "execution_count": 1,
   "metadata": {},
   "outputs": [
    {
     "name": "stdout",
     "output_type": "stream",
     "text": [
      "[('l',), ('u',), ('z',), ('l', 'u'), ('l', 'z'), ('u', 'z'), ('l', 'u', 'z')]\n"
     ]
    }
   ],
   "source": [
    "import itertools\n",
    "'''\n",
    "todo []--> Hacer el casteo a array de las tuplas\n",
    "'''\n",
    "\n",
    "palabra = input(\"Ingresa la palabra base\")\n",
    "list_conbinacion = []\n",
    "palabra = list(palabra)\n",
    "\n",
    "for i in range(1,len(palabra)+1):\n",
    "    list_conbinacion.extend(list(itertools.combinations(palabra, i)))\n",
    "\n",
    "print(list_conbinacion)"
   ]
  }
 ],
 "metadata": {
  "interpreter": {
   "hash": "3e4b6b4e05a31908945f0ab9896d8a373df1a2b500408d23e6fe24e93398fda7"
  },
  "kernelspec": {
   "display_name": "Python 3.9.10 64-bit (windows store)",
   "language": "python",
   "name": "python3"
  },
  "language_info": {
   "codemirror_mode": {
    "name": "ipython",
    "version": 3
   },
   "file_extension": ".py",
   "mimetype": "text/x-python",
   "name": "python",
   "nbconvert_exporter": "python",
   "pygments_lexer": "ipython3",
   "version": "3.9.11"
  },
  "orig_nbformat": 4
 },
 "nbformat": 4,
 "nbformat_minor": 2
}
